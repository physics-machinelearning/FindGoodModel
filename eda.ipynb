{
 "cells": [
  {
   "cell_type": "code",
   "execution_count": 2,
   "metadata": {
    "scrolled": true
   },
   "outputs": [
    {
     "output_type": "error",
     "ename": "ModuleNotFoundError",
     "evalue": "No module named 'seaborn'",
     "traceback": [
      "\u001b[0;31m---------------------------------------------------------------------------\u001b[0m",
      "\u001b[0;31mModuleNotFoundError\u001b[0m                       Traceback (most recent call last)",
      "\u001b[0;32m<ipython-input-2-fa21ccd793d6>\u001b[0m in \u001b[0;36m<module>\u001b[0;34m\u001b[0m\n\u001b[1;32m      1\u001b[0m \u001b[0;31m# import pandas as pd\u001b[0m\u001b[0;34m\u001b[0m\u001b[0;34m\u001b[0m\u001b[0;34m\u001b[0m\u001b[0m\n\u001b[1;32m      2\u001b[0m \u001b[0;32mimport\u001b[0m \u001b[0mnumpy\u001b[0m \u001b[0;32mas\u001b[0m \u001b[0mnp\u001b[0m\u001b[0;34m\u001b[0m\u001b[0;34m\u001b[0m\u001b[0m\n\u001b[0;32m----> 3\u001b[0;31m \u001b[0;32mimport\u001b[0m \u001b[0mseaborn\u001b[0m \u001b[0;32mas\u001b[0m \u001b[0msns\u001b[0m\u001b[0;34m\u001b[0m\u001b[0;34m\u001b[0m\u001b[0m\n\u001b[0m\u001b[1;32m      4\u001b[0m \u001b[0;32mfrom\u001b[0m \u001b[0msklearn\u001b[0m\u001b[0;34m.\u001b[0m\u001b[0mmetrics\u001b[0m \u001b[0;32mimport\u001b[0m \u001b[0mconfusion_matrix\u001b[0m\u001b[0;34m\u001b[0m\u001b[0;34m\u001b[0m\u001b[0m\n\u001b[1;32m      5\u001b[0m \u001b[0;32mfrom\u001b[0m \u001b[0msklearn\u001b[0m\u001b[0;34m.\u001b[0m\u001b[0mdatasets\u001b[0m \u001b[0;32mimport\u001b[0m \u001b[0mload_wine\u001b[0m\u001b[0;34m\u001b[0m\u001b[0;34m\u001b[0m\u001b[0m\n",
      "\u001b[0;31mModuleNotFoundError\u001b[0m: No module named 'seaborn'"
     ]
    }
   ],
   "source": [
    "# import pandas as pd\n",
    "import numpy as np\n",
    "from sklearn.metrics import confusion_matrix\n",
    "from sklearn.datasets import load_wine\n",
    "from sklearn.model_selection import train_test_split\n",
    "from sklearn.preprocessing import RobustScaler\n",
    "import matplotlib.pyplot as plt\n",
    "import warnings\n",
    "%matplotlib inline\n",
    "warnings.simplefilter('ignore')\n",
    "\n",
    "from auto_learning.models import CLASSIFICATION_MODELS, REGRESSION_MODELS\n",
    "from auto_learning.hyp_param_search import HypParamSearch\n",
    "\n",
    "data = load_wine()\n",
    "# df_x = pd.DataFrame(data=data.data, columns=data.feature_names)\n",
    "# df_y = pd.DataFrame(data=data.target)\n",
    "\n",
    "x_train, x_test, y_train, y_test = train_test_split(data.data, data.target, test_size=0.3)"
   ]
  },
  {
   "cell_type": "code",
   "execution_count": 3,
   "metadata": {},
   "outputs": [
    {
     "name": "stdout",
     "output_type": "stream",
     "text": [
      "|   iter    |  target   | max_depth | n_esti... |\n",
      "-------------------------------------------------\n",
      "| \u001b[0m 1       \u001b[0m | \u001b[0m 0.6104  \u001b[0m | \u001b[0m 5.098   \u001b[0m | \u001b[0m 171.5   \u001b[0m |\n",
      "| \u001b[0m 2       \u001b[0m | \u001b[0m 0.5952  \u001b[0m | \u001b[0m 4.018   \u001b[0m | \u001b[0m 125.7   \u001b[0m |\n",
      "| \u001b[0m 3       \u001b[0m | \u001b[0m 0.6068  \u001b[0m | \u001b[0m 5.22    \u001b[0m | \u001b[0m 167.9   \u001b[0m |\n",
      "| \u001b[0m 4       \u001b[0m | \u001b[0m 0.5987  \u001b[0m | \u001b[0m 4.0     \u001b[0m | \u001b[0m 200.0   \u001b[0m |\n",
      "| \u001b[0m 5       \u001b[0m | \u001b[0m 0.605   \u001b[0m | \u001b[0m 5.962   \u001b[0m | \u001b[0m 100.0   \u001b[0m |\n",
      "| \u001b[0m 6       \u001b[0m | \u001b[0m 0.5907  \u001b[0m | \u001b[0m 4.006   \u001b[0m | \u001b[0m 177.7   \u001b[0m |\n",
      "| \u001b[0m 7       \u001b[0m | \u001b[0m 0.6059  \u001b[0m | \u001b[0m 5.997   \u001b[0m | \u001b[0m 199.7   \u001b[0m |\n",
      "| \u001b[0m 8       \u001b[0m | \u001b[0m 0.605   \u001b[0m | \u001b[0m 5.993   \u001b[0m | \u001b[0m 114.8   \u001b[0m |\n",
      "| \u001b[0m 9       \u001b[0m | \u001b[0m 0.6086  \u001b[0m | \u001b[0m 5.99    \u001b[0m | \u001b[0m 172.0   \u001b[0m |\n",
      "| \u001b[0m 10      \u001b[0m | \u001b[0m 0.5952  \u001b[0m | \u001b[0m 4.004   \u001b[0m | \u001b[0m 108.0   \u001b[0m |\n",
      "| \u001b[0m 11      \u001b[0m | \u001b[0m 0.6077  \u001b[0m | \u001b[0m 5.987   \u001b[0m | \u001b[0m 140.2   \u001b[0m |\n",
      "| \u001b[0m 12      \u001b[0m | \u001b[0m 0.6005  \u001b[0m | \u001b[0m 5.97    \u001b[0m | \u001b[0m 132.7   \u001b[0m |\n",
      "| \u001b[0m 13      \u001b[0m | \u001b[0m 0.5952  \u001b[0m | \u001b[0m 4.003   \u001b[0m | \u001b[0m 146.4   \u001b[0m |\n",
      "| \u001b[0m 14      \u001b[0m | \u001b[0m 0.5925  \u001b[0m | \u001b[0m 4.005   \u001b[0m | \u001b[0m 170.5   \u001b[0m |\n",
      "| \u001b[95m 15      \u001b[0m | \u001b[95m 0.6122  \u001b[0m | \u001b[95m 5.988   \u001b[0m | \u001b[95m 153.7   \u001b[0m |\n",
      "| \u001b[0m 16      \u001b[0m | \u001b[0m 0.6059  \u001b[0m | \u001b[0m 5.989   \u001b[0m | \u001b[0m 164.2   \u001b[0m |\n",
      "| \u001b[0m 17      \u001b[0m | \u001b[0m 0.5987  \u001b[0m | \u001b[0m 4.034   \u001b[0m | \u001b[0m 191.8   \u001b[0m |\n",
      "| \u001b[0m 18      \u001b[0m | \u001b[0m 0.6077  \u001b[0m | \u001b[0m 6.0     \u001b[0m | \u001b[0m 149.5   \u001b[0m |\n",
      "| \u001b[0m 19      \u001b[0m | \u001b[0m 0.6014  \u001b[0m | \u001b[0m 4.113   \u001b[0m | \u001b[0m 100.1   \u001b[0m |\n",
      "| \u001b[95m 20      \u001b[0m | \u001b[95m 0.6157  \u001b[0m | \u001b[95m 5.967   \u001b[0m | \u001b[95m 170.2   \u001b[0m |\n",
      "| \u001b[0m 21      \u001b[0m | \u001b[0m 0.5907  \u001b[0m | \u001b[0m 4.014   \u001b[0m | \u001b[0m 136.1   \u001b[0m |\n",
      "=================================================\n",
      "RandomForestClassifier(bootstrap=True, class_weight=None, criterion='gini',\n",
      "            max_depth=5, max_features='auto', max_leaf_nodes=None,\n",
      "            min_impurity_decrease=0.0, min_impurity_split=None,\n",
      "            min_samples_leaf=1, min_samples_split=2,\n",
      "            min_weight_fraction_leaf=0.0, n_estimators=170, n_jobs=1,\n",
      "            oob_score=False, random_state=None, verbose=0,\n",
      "            warm_start=False)\n"
     ]
    },
    {
     "data": {
      "image/png": "[encoded data removed]",
      "text/plain": [
       "<Figure size 432x288 with 1 Axes>"
      ]
     },
     "metadata": {
      "needs_background": "light"
     },
     "output_type": "display_data"
    },
    {
     "name": "stdout",
     "output_type": "stream",
     "text": [
      "0.6193029490616622 0.6291666666666667\n"
     ]
    },
    {
     "data": {
      "image/png": "[encoded data removed]",
      "text/plain": [
       "<Figure size 432x288 with 2 Axes>"
      ]
     },
     "metadata": {
      "needs_background": "light"
     },
     "output_type": "display_data"
    },
    {
     "name": "stdout",
     "output_type": "stream",
     "text": [
      "|   iter    |  target   |     C     |   gamma   |\n",
      "-------------------------------------------------\n",
      "| \u001b[0m 1       \u001b[0m | \u001b[0m 0.6345  \u001b[0m | \u001b[0m 1.86    \u001b[0m | \u001b[0m 0.008769\u001b[0m |\n",
      "| \u001b[0m 2       \u001b[0m | \u001b[0m 0.4182  \u001b[0m | \u001b[0m-3.463   \u001b[0m | \u001b[0m-6.768   \u001b[0m |\n",
      "| \u001b[0m 3       \u001b[0m | \u001b[0m 0.6327  \u001b[0m | \u001b[0m 1.884   \u001b[0m | \u001b[0m-0.007375\u001b[0m |\n",
      "| \u001b[0m 4       \u001b[0m | \u001b[0m 0.5344  \u001b[0m | \u001b[0m 6.238   \u001b[0m | \u001b[0m 2.773   \u001b[0m |\n",
      "| \u001b[0m 5       \u001b[0m | \u001b[0m 0.4182  \u001b[0m | \u001b[0m-3.466   \u001b[0m | \u001b[0m 2.773   \u001b[0m |\n",
      "| \u001b[0m 6       \u001b[0m | \u001b[0m 0.5925  \u001b[0m | \u001b[0m 6.238   \u001b[0m | \u001b[0m-6.931   \u001b[0m |\n",
      "| \u001b[0m 7       \u001b[0m | \u001b[0m 0.6148  \u001b[0m | \u001b[0m 3.489   \u001b[0m | \u001b[0m-2.616   \u001b[0m |\n",
      "| \u001b[0m 8       \u001b[0m | \u001b[0m 0.555   \u001b[0m | \u001b[0m 2.561   \u001b[0m | \u001b[0m-6.915   \u001b[0m |\n",
      "| \u001b[0m 9       \u001b[0m | \u001b[0m 0.6077  \u001b[0m | \u001b[0m 2.863   \u001b[0m | \u001b[0m 0.3708  \u001b[0m |\n",
      "| \u001b[0m 10      \u001b[0m | \u001b[0m 0.622   \u001b[0m | \u001b[0m 0.5774  \u001b[0m | \u001b[0m-1.512   \u001b[0m |\n",
      "| \u001b[0m 11      \u001b[0m | \u001b[0m 0.5344  \u001b[0m | \u001b[0m 1.155   \u001b[0m | \u001b[0m 2.77    \u001b[0m |\n",
      "| \u001b[0m 12      \u001b[0m | \u001b[0m 0.6345  \u001b[0m | \u001b[0m 1.49    \u001b[0m | \u001b[0m-0.577   \u001b[0m |\n",
      "| \u001b[0m 13      \u001b[0m | \u001b[0m 0.5987  \u001b[0m | \u001b[0m 6.237   \u001b[0m | \u001b[0m-2.872   \u001b[0m |\n",
      "| \u001b[95m 14      \u001b[0m | \u001b[95m 0.6363  \u001b[0m | \u001b[95m 0.7931  \u001b[0m | \u001b[95m 0.003316\u001b[0m |\n",
      "| \u001b[95m 15      \u001b[0m | \u001b[95m 0.6381  \u001b[0m | \u001b[95m 1.153   \u001b[0m | \u001b[95m-0.07369 \u001b[0m |\n",
      "| \u001b[0m 16      \u001b[0m | \u001b[0m 0.6005  \u001b[0m | \u001b[0m 4.991   \u001b[0m | \u001b[0m-4.91    \u001b[0m |\n",
      "| \u001b[95m 17      \u001b[0m | \u001b[95m 0.6399  \u001b[0m | \u001b[95m 1.204   \u001b[0m | \u001b[95m-0.1082  \u001b[0m |\n",
      "| \u001b[0m 18      \u001b[0m | \u001b[0m 0.4674  \u001b[0m | \u001b[0m-3.435   \u001b[0m | \u001b[0m-1.512   \u001b[0m |\n",
      "| \u001b[0m 19      \u001b[0m | \u001b[0m 0.5943  \u001b[0m | \u001b[0m 1.786   \u001b[0m | \u001b[0m-3.903   \u001b[0m |\n",
      "| \u001b[0m 20      \u001b[0m | \u001b[0m 0.6273  \u001b[0m | \u001b[0m 1.155   \u001b[0m | \u001b[0m 0.133   \u001b[0m |\n",
      "| \u001b[95m 21      \u001b[0m | \u001b[95m 0.6434  \u001b[0m | \u001b[95m-0.2269  \u001b[0m | \u001b[95m-0.708   \u001b[0m |\n",
      "=================================================\n",
      "SVC(C=0.7969905746025541, cache_size=200, class_weight=None, coef0=0.0,\n",
      "  decision_function_shape='ovr', degree=3, gamma=0.49264315741198533,\n",
      "  kernel='rbf', max_iter=-1, probability=False, random_state=None,\n",
      "  shrinking=True, tol=0.001, verbose=False)\n"
     ]
    },
    {
     "data": {
      "image/png": "[encoded data removed]",
      "text/plain": [
       "<Figure size 432x288 with 1 Axes>"
      ]
     },
     "metadata": {
      "needs_background": "light"
     },
     "output_type": "display_data"
    },
    {
     "name": "stdout",
     "output_type": "stream",
     "text": [
      "0.6434316353887399 0.6708333333333333\n"
     ]
    },
    {
     "data": {
      "image/png": "[encoded data removed]",
      "text/plain": [
       "<Figure size 432x288 with 2 Axes>"
      ]
     },
     "metadata": {
      "needs_background": "light"
     },
     "output_type": "display_data"
    },
    {
     "name": "stdout",
     "output_type": "stream",
     "text": [
      "|   iter    |  target   | n_neig... |\n",
      "-------------------------------------\n",
      "| \u001b[0m 1       \u001b[0m | \u001b[0m 0.5728  \u001b[0m | \u001b[0m 9.586   \u001b[0m |\n",
      "| \u001b[0m 2       \u001b[0m | \u001b[0m 0.5576  \u001b[0m | \u001b[0m 3.001   \u001b[0m |\n",
      "| \u001b[0m 3       \u001b[0m | \u001b[0m 0.5612  \u001b[0m | \u001b[0m 15.0    \u001b[0m |\n",
      "| \u001b[0m 4       \u001b[0m | \u001b[0m 0.5728  \u001b[0m | \u001b[0m 9.293   \u001b[0m |\n",
      "| \u001b[0m 5       \u001b[0m | \u001b[0m 0.5728  \u001b[0m | \u001b[0m 9.355   \u001b[0m |\n",
      "| \u001b[0m 6       \u001b[0m | \u001b[0m 0.5728  \u001b[0m | \u001b[0m 9.368   \u001b[0m |\n",
      "| \u001b[0m 7       \u001b[0m | \u001b[0m 0.5728  \u001b[0m | \u001b[0m 9.37    \u001b[0m |\n",
      "| \u001b[0m 8       \u001b[0m | \u001b[0m 0.5728  \u001b[0m | \u001b[0m 9.389   \u001b[0m |\n",
      "| \u001b[0m 9       \u001b[0m | \u001b[0m 0.5728  \u001b[0m | \u001b[0m 9.384   \u001b[0m |\n",
      "| \u001b[0m 10      \u001b[0m | \u001b[0m 0.5728  \u001b[0m | \u001b[0m 9.435   \u001b[0m |\n",
      "| \u001b[0m 11      \u001b[0m | \u001b[0m 0.5728  \u001b[0m | \u001b[0m 9.407   \u001b[0m |\n",
      "| \u001b[0m 12      \u001b[0m | \u001b[0m 0.5728  \u001b[0m | \u001b[0m 9.337   \u001b[0m |\n",
      "| \u001b[0m 13      \u001b[0m | \u001b[0m 0.5728  \u001b[0m | \u001b[0m 9.528   \u001b[0m |\n",
      "| \u001b[0m 14      \u001b[0m | \u001b[0m 0.5728  \u001b[0m | \u001b[0m 9.074   \u001b[0m |\n",
      "| \u001b[0m 15      \u001b[0m | \u001b[0m 0.5728  \u001b[0m | \u001b[0m 9.623   \u001b[0m |\n",
      "| \u001b[0m 16      \u001b[0m | \u001b[0m 0.5728  \u001b[0m | \u001b[0m 9.168   \u001b[0m |\n",
      "| \u001b[0m 17      \u001b[0m | \u001b[0m 0.5728  \u001b[0m | \u001b[0m 9.658   \u001b[0m |\n",
      "| \u001b[0m 18      \u001b[0m | \u001b[0m 0.5728  \u001b[0m | \u001b[0m 9.224   \u001b[0m |\n",
      "| \u001b[0m 19      \u001b[0m | \u001b[0m 0.5728  \u001b[0m | \u001b[0m 9.579   \u001b[0m |\n",
      "| \u001b[0m 20      \u001b[0m | \u001b[0m 0.5728  \u001b[0m | \u001b[0m 9.184   \u001b[0m |\n",
      "| \u001b[0m 21      \u001b[0m | \u001b[0m 0.5728  \u001b[0m | \u001b[0m 9.633   \u001b[0m |\n",
      "=====================================\n",
      "KNeighborsClassifier(algorithm='auto', leaf_size=30, metric='minkowski',\n",
      "           metric_params=None, n_jobs=1, n_neighbors=9, p=2,\n",
      "           weights='uniform')\n"
     ]
    },
    {
     "data": {
      "image/png": "[encoded data removed]",
      "text/plain": [
       "<Figure size 432x288 with 1 Axes>"
      ]
     },
     "metadata": {
      "needs_background": "light"
     },
     "output_type": "display_data"
    },
    {
     "name": "stdout",
     "output_type": "stream",
     "text": [
      "0.5728328865058088 0.5625\n"
     ]
    },
    {
     "data": {
      "image/png": "[encoded data removed]",
      "text/plain": [
       "<Figure size 432x288 with 2 Axes>"
      ]
     },
     "metadata": {
      "needs_background": "light"
     },
     "output_type": "display_data"
    }
   ],
   "source": [
    "feature_selection = 'None'\n",
    "crossval_type = 'kfold'\n",
    "search_type = 'bayes'\n",
    "metrics = 'accuracy'\n",
    "problem_type = 'classification'\n",
    "\n",
    "est_list = []\n",
    "for func in CLASSIFICATION_MODELS.values():\n",
    "    est, params = func()\n",
    "    hyp = HypParamSearch(x_train,\n",
    "                         y_train,\n",
    "                         x_test,\n",
    "                         y_test,\n",
    "                         est,\n",
    "                         problem_type,\n",
    "                         feature_selection,\n",
    "                         params,\n",
    "                         crossval_type,\n",
    "                         search_type,\n",
    "                         metrics)\n",
    "    y_test_list, y_test_predicted_list, val_score, test_score, est = hyp.hyp_param_search()\n",
    "    est_list.append(est)\n",
    "\n",
    "    print(est)\n",
    "\n",
    "    plt.figure()\n",
    "    plt.scatter(y_test_list, y_test_predicted_list)\n",
    "    plt.show()\n",
    "\n",
    "    print(val_score, test_score)\n",
    "\n",
    "    y_test_predicted_list = np.array(y_test_predicted_list, int)\n",
    "    cm = confusion_matrix(y_test_list, y_test_predicted_list)\n",
    "\n",
    "    sns.heatmap(cm)\n",
    "    plt.show()"
   ]
  },
  {
   "cell_type": "code",
   "execution_count": 4,
   "metadata": {},
   "outputs": [
    {
     "name": "stdout",
     "output_type": "stream",
     "text": [
      "<estimator.StackedGeneralization object at 0x1a3d9a3eb8>\n"
     ]
    },
    {
     "data": {
      "image/png": "[encoded data removed]",
      "text/plain": [
       "<Figure size 432x288 with 1 Axes>"
      ]
     },
     "metadata": {
      "needs_background": "light"
     },
     "output_type": "display_data"
    },
    {
     "name": "stdout",
     "output_type": "stream",
     "text": [
      "0.6058981233243967 0.6333333333333333\n"
     ]
    },
    {
     "data": {
      "image/png": "[encoded data removed]",
      "text/plain": [
       "<Figure size 432x288 with 2 Axes>"
      ]
     },
     "metadata": {
      "needs_background": "light"
     },
     "output_type": "display_data"
    }
   ],
   "source": [
    "from estimator import StackedGeneralization\n",
    "\n",
    "def sg(est_list):\n",
    "    params = {}\n",
    "    StackedGeneralization.est_list = est_list\n",
    "    return StackedGeneralization, params\n",
    "\n",
    "feature_selection = 'None'\n",
    "crossval_type = 'kfold'\n",
    "search_type = 'brute'\n",
    "metrics = 'accuracy'\n",
    "problem_type = 'classification'\n",
    "\n",
    "est, params = sg(est_list)\n",
    "hyp = HypParamSearch(x_train,\n",
    "                     y_train,\n",
    "                     x_test,\n",
    "                     y_test,\n",
    "                     est,\n",
    "                     problem_type,\n",
    "                     feature_selection,\n",
    "                     params,\n",
    "                     crossval_type,\n",
    "                     search_type,\n",
    "                     metrics)\n",
    "y_test_list, y_test_predicted_list, val_score, test_score, est = hyp.hyp_param_search()\n",
    "\n",
    "print(est)\n",
    "\n",
    "plt.figure()\n",
    "plt.scatter(y_test_list, y_test_predicted_list)\n",
    "plt.show()\n",
    "\n",
    "print(val_score, test_score)\n",
    "\n",
    "y_test_predicted_list = np.array(y_test_predicted_list, int)\n",
    "cm = confusion_matrix(y_test_list, y_test_predicted_list)\n",
    "\n",
    "sns.heatmap(cm)\n",
    "plt.show()"
   ]
  },
  {
   "cell_type": "code",
   "execution_count": null,
   "metadata": {},
   "outputs": [
    {
     "name": "stdout",
     "output_type": "stream",
     "text": [
      "|   iter    |  target   |    bn1    |    bn2    |    bn3    |    do1    |    do2    |    do3    |\n",
      "-------------------------------------------------------------------------------------------------\n",
      "| \u001b[0m 1       \u001b[0m | \u001b[0m 0.5308  \u001b[0m | \u001b[0m 0.5391  \u001b[0m | \u001b[0m 0.6722  \u001b[0m | \u001b[0m 0.5822  \u001b[0m | \u001b[0m 0.318   \u001b[0m | \u001b[0m 0.2695  \u001b[0m | \u001b[0m 0.3584  \u001b[0m |\n",
      "| \u001b[95m 2       \u001b[0m | \u001b[95m 0.5719  \u001b[0m | \u001b[95m 0.1     \u001b[0m | \u001b[95m 0.1     \u001b[0m | \u001b[95m 0.1     \u001b[0m | \u001b[95m 0.1     \u001b[0m | \u001b[95m 0.1     \u001b[0m | \u001b[95m 0.1     \u001b[0m |\n",
      "| \u001b[0m 3       \u001b[0m | \u001b[0m 0.5326  \u001b[0m | \u001b[0m 0.1     \u001b[0m | \u001b[0m 0.1     \u001b[0m | \u001b[0m 0.1     \u001b[0m | \u001b[0m 0.5     \u001b[0m | \u001b[0m 0.5     \u001b[0m | \u001b[0m 0.1     \u001b[0m |\n",
      "| \u001b[0m 4       \u001b[0m | \u001b[0m 0.5416  \u001b[0m | \u001b[0m 0.9     \u001b[0m | \u001b[0m 0.1     \u001b[0m | \u001b[0m 0.1     \u001b[0m | \u001b[0m 0.1     \u001b[0m | \u001b[0m 0.1     \u001b[0m | \u001b[0m 0.1     \u001b[0m |\n",
      "| \u001b[0m 5       \u001b[0m | \u001b[0m 0.5398  \u001b[0m | \u001b[0m 0.1     \u001b[0m | \u001b[0m 0.1     \u001b[0m | \u001b[0m 0.9     \u001b[0m | \u001b[0m 0.1     \u001b[0m | \u001b[0m 0.1     \u001b[0m | \u001b[0m 0.1     \u001b[0m |\n",
      "| \u001b[95m 6       \u001b[0m | \u001b[95m 0.5871  \u001b[0m | \u001b[95m 0.1     \u001b[0m | \u001b[95m 0.9     \u001b[0m | \u001b[95m 0.1     \u001b[0m | \u001b[95m 0.1     \u001b[0m | \u001b[95m 0.1     \u001b[0m | \u001b[95m 0.1     \u001b[0m |\n",
      "| \u001b[0m 7       \u001b[0m | \u001b[0m 0.5416  \u001b[0m | \u001b[0m 0.264   \u001b[0m | \u001b[0m 0.7733  \u001b[0m | \u001b[0m 0.1056  \u001b[0m | \u001b[0m 0.1199  \u001b[0m | \u001b[0m 0.4004  \u001b[0m | \u001b[0m 0.4032  \u001b[0m |\n"
     ]
    }
   ],
   "source": [
    "from estimator import NeuralNet\n",
    "\n",
    "def nn():\n",
    "    params = {'bn1':[0.1,0.9], 'do1':[0.1,0.5], 'bn2':[0.1,0.9], 'do2':[0.1,0.5], 'bn3':[0.1,0.9], 'do3':[0.1,0.5]}\n",
    "    return NeuralNet, params\n",
    "\n",
    "feature_selection = 'None'\n",
    "crossval_type = 'kfold'\n",
    "search_type = 'bayes'\n",
    "metrics = 'accuracy'\n",
    "problem_type = 'classification'\n",
    "\n",
    "est, params = nn()\n",
    "hyp = HypParamSearch(x_train,\n",
    "                     y_train,\n",
    "                     x_test,\n",
    "                     y_test,\n",
    "                     est,\n",
    "                     problem_type,\n",
    "                     feature_selection,\n",
    "                     params,\n",
    "                     crossval_type,\n",
    "                     search_type,\n",
    "                     metrics)\n",
    "y_test_list, y_test_predicted_list, val_score, test_score, est = hyp.hyp_param_search()\n",
    "\n",
    "print(est)\n",
    "\n",
    "plt.figure()\n",
    "plt.scatter(y_test_list, y_test_predicted_list)\n",
    "plt.show()\n",
    "\n",
    "print(val_score, test_score)\n",
    "\n",
    "y_test_predicted_list = np.array(y_test_predicted_list, int)\n",
    "cm = confusion_matrix(y_test_list, y_test_predicted_list)\n",
    "\n",
    "sns.heatmap(cm)\n",
    "plt.show()"
   ]
  },
  {
   "cell_type": "code",
   "execution_count": null,
   "metadata": {},
   "outputs": [],
   "source": []
  },
  {
   "cell_type": "code",
   "execution_count": null,
   "metadata": {},
   "outputs": [],
   "source": []
  }
 ],
 "metadata": {
  "kernelspec": {
   "display_name": "auto_learning_kernel",
   "language": "python",
   "name": "auto_learning_kernel"
  },
  "language_info": {
   "codemirror_mode": {
    "name": "ipython",
    "version": 3
   },
   "file_extension": ".py",
   "mimetype": "text/x-python",
   "name": "python",
   "nbconvert_exporter": "python",
   "pygments_lexer": "ipython3",
   "version": "3.7.3-final"
  }
 },
 "nbformat": 4,
 "nbformat_minor": 2
}