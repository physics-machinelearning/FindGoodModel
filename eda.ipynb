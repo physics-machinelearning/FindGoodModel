{
 "cells": [
  {
   "cell_type": "code",
   "execution_count": 15,
   "metadata": {
    "scrolled": true
   },
   "outputs": [],
   "source": [
    "import pandas as pd\n",
    "import numpy as np\n",
    "from sklearn.metrics import confusion_matrix\n",
    "from sklearn.datasets import load_wine\n",
    "from sklearn.model_selection import train_test_split\n",
    "from sklearn.preprocessing import RobustScaler\n",
    "import matplotlib.pyplot as plt\n",
    "import seaborn as sns\n",
    "import warnings\n",
    "%matplotlib inline\n",
    "warnings.simplefilter('ignore')\n",
    "\n",
    "from auto_learning.models import CLASSIFICATION_MODELS, REGRESSION_MODELS\n",
    "from auto_learning.hyp_param_search import HypParamSearch\n",
    "\n",
    "data = load_wine()\n",
    "x_train, x_test, y_train, y_test = train_test_split(data.data, data.target, test_size=0.3)"
   ]
  },
  {
   "cell_type": "code",
   "execution_count": 14,
   "metadata": {},
   "outputs": [
    {
     "output_type": "stream",
     "name": "stdout",
     "text": [
      "LogisticRegression(C=8)\n0.9838709677419355 0.9629629629629629\n"
     ]
    },
    {
     "output_type": "error",
     "ename": "NameError",
     "evalue": "name 'sns' is not defined",
     "traceback": [
      "\u001b[0;31m---------------------------------------------------------------------------\u001b[0m",
      "\u001b[0;31mNameError\u001b[0m                                 Traceback (most recent call last)",
      "\u001b[0;32m<ipython-input-14-7797e30b15c0>\u001b[0m in \u001b[0;36m<module>\u001b[0;34m\u001b[0m\n\u001b[1;32m     29\u001b[0m     \u001b[0mcm_df\u001b[0m \u001b[0;34m=\u001b[0m \u001b[0mpd\u001b[0m\u001b[0;34m.\u001b[0m\u001b[0mDataFrame\u001b[0m\u001b[0;34m(\u001b[0m\u001b[0mcm\u001b[0m\u001b[0;34m,\u001b[0m \u001b[0mindex\u001b[0m\u001b[0;34m=\u001b[0m\u001b[0mdata\u001b[0m\u001b[0;34m.\u001b[0m\u001b[0mtarget_names\u001b[0m\u001b[0;34m,\u001b[0m \u001b[0mcolumns\u001b[0m\u001b[0;34m=\u001b[0m\u001b[0mdata\u001b[0m\u001b[0;34m.\u001b[0m\u001b[0mtarget_names\u001b[0m\u001b[0;34m)\u001b[0m\u001b[0;34m\u001b[0m\u001b[0;34m\u001b[0m\u001b[0m\n\u001b[1;32m     30\u001b[0m     \u001b[0mplt\u001b[0m\u001b[0;34m.\u001b[0m\u001b[0mfigure\u001b[0m\u001b[0;34m(\u001b[0m\u001b[0;34m)\u001b[0m\u001b[0;34m\u001b[0m\u001b[0;34m\u001b[0m\u001b[0m\n\u001b[0;32m---> 31\u001b[0;31m     \u001b[0msns\u001b[0m\u001b[0;34m.\u001b[0m\u001b[0mheatmap\u001b[0m\u001b[0;34m(\u001b[0m\u001b[0mcm_df\u001b[0m\u001b[0;34m,\u001b[0m \u001b[0mannot\u001b[0m\u001b[0;34m=\u001b[0m\u001b[0;32mTrue\u001b[0m\u001b[0;34m)\u001b[0m\u001b[0;34m\u001b[0m\u001b[0;34m\u001b[0m\u001b[0m\n\u001b[0m\u001b[1;32m     32\u001b[0m     \u001b[0mplt\u001b[0m\u001b[0;34m.\u001b[0m\u001b[0mshow\u001b[0m\u001b[0;34m(\u001b[0m\u001b[0;34m)\u001b[0m\u001b[0;34m\u001b[0m\u001b[0;34m\u001b[0m\u001b[0m\n",
      "\u001b[0;31mNameError\u001b[0m: name 'sns' is not defined"
     ]
    }
   ],
   "source": [
    "feature_selection = 'None'\n",
    "crossval_type = 'kfold'\n",
    "search_type = 'bayes_Gpyopt'\n",
    "metrics = 'accuracy'\n",
    "problem_type = 'classification'\n",
    "\n",
    "est_list = []\n",
    "for func in CLASSIFICATION_MODELS.values():\n",
    "    est, params = func()\n",
    "    hyp = HypParamSearch(x_train,\n",
    "                         y_train,\n",
    "                         x_test,\n",
    "                         y_test,\n",
    "                         est,\n",
    "                         problem_type,\n",
    "                         feature_selection,\n",
    "                         params,\n",
    "                         crossval_type,\n",
    "                         search_type,\n",
    "                         metrics)\n",
    "    y_test_list, y_test_predicted_list, val_score, test_score, est = hyp.hyp_param_search()\n",
    "    est_list.append(est)\n",
    "\n",
    "    print(est)\n",
    "    print(val_score, test_score)\n",
    "\n",
    "    y_test_predicted_list = np.array(y_test_predicted_list, int)\n",
    "    cm = confusion_matrix(y_test_list, y_test_predicted_list)\n",
    "    cm_df = pd.DataFrame(cm, index=data.target_names, columns=data.target_names)\n",
    "    plt.figure()\n",
    "    sns.heatmap(cm_df, annot=True)\n",
    "    plt.show()"
   ]
  },
  {
   "cell_type": "code",
   "execution_count": 4,
   "metadata": {},
   "outputs": [
    {
     "name": "stdout",
     "output_type": "stream",
     "text": [
      "<estimator.StackedGeneralization object at 0x1a3d9a3eb8>\n"
     ]
    },
    {
     "data": {
      "image/png": "[encoded data removed]",
      "text/plain": [
       "<Figure size 432x288 with 1 Axes>"
      ]
     },
     "metadata": {
      "needs_background": "light"
     },
     "output_type": "display_data"
    },
    {
     "name": "stdout",
     "output_type": "stream",
     "text": [
      "0.6058981233243967 0.6333333333333333\n"
     ]
    },
    {
     "data": {
      "image/png": "[encoded data removed]",
      "text/plain": [
       "<Figure size 432x288 with 2 Axes>"
      ]
     },
     "metadata": {
      "needs_background": "light"
     },
     "output_type": "display_data"
    }
   ],
   "source": [
    "from estimator import StackedGeneralization\n",
    "\n",
    "def sg(est_list):\n",
    "    params = {}\n",
    "    StackedGeneralization.est_list = est_list\n",
    "    return StackedGeneralization, params\n",
    "\n",
    "feature_selection = 'None'\n",
    "crossval_type = 'kfold'\n",
    "search_type = 'brute'\n",
    "metrics = 'accuracy'\n",
    "problem_type = 'classification'\n",
    "\n",
    "est, params = sg(est_list)\n",
    "hyp = HypParamSearch(x_train,\n",
    "                     y_train,\n",
    "                     x_test,\n",
    "                     y_test,\n",
    "                     est,\n",
    "                     problem_type,\n",
    "                     feature_selection,\n",
    "                     params,\n",
    "                     crossval_type,\n",
    "                     search_type,\n",
    "                     metrics)\n",
    "y_test_list, y_test_predicted_list, val_score, test_score, est = hyp.hyp_param_search()\n",
    "\n",
    "print(est)\n",
    "\n",
    "plt.figure()\n",
    "plt.scatter(y_test_list, y_test_predicted_list)\n",
    "plt.show()\n",
    "\n",
    "print(val_score, test_score)\n",
    "\n",
    "y_test_predicted_list = np.array(y_test_predicted_list, int)\n",
    "cm = confusion_matrix(y_test_list, y_test_predicted_list)\n",
    "\n",
    "sns.heatmap(cm)\n",
    "plt.show()"
   ]
  },
  {
   "cell_type": "code",
   "execution_count": null,
   "metadata": {},
   "outputs": [
    {
     "name": "stdout",
     "output_type": "stream",
     "text": [
      "|   iter    |  target   |    bn1    |    bn2    |    bn3    |    do1    |    do2    |    do3    |\n",
      "-------------------------------------------------------------------------------------------------\n",
      "| \u001b[0m 1       \u001b[0m | \u001b[0m 0.5308  \u001b[0m | \u001b[0m 0.5391  \u001b[0m | \u001b[0m 0.6722  \u001b[0m | \u001b[0m 0.5822  \u001b[0m | \u001b[0m 0.318   \u001b[0m | \u001b[0m 0.2695  \u001b[0m | \u001b[0m 0.3584  \u001b[0m |\n",
      "| \u001b[95m 2       \u001b[0m | \u001b[95m 0.5719  \u001b[0m | \u001b[95m 0.1     \u001b[0m | \u001b[95m 0.1     \u001b[0m | \u001b[95m 0.1     \u001b[0m | \u001b[95m 0.1     \u001b[0m | \u001b[95m 0.1     \u001b[0m | \u001b[95m 0.1     \u001b[0m |\n",
      "| \u001b[0m 3       \u001b[0m | \u001b[0m 0.5326  \u001b[0m | \u001b[0m 0.1     \u001b[0m | \u001b[0m 0.1     \u001b[0m | \u001b[0m 0.1     \u001b[0m | \u001b[0m 0.5     \u001b[0m | \u001b[0m 0.5     \u001b[0m | \u001b[0m 0.1     \u001b[0m |\n",
      "| \u001b[0m 4       \u001b[0m | \u001b[0m 0.5416  \u001b[0m | \u001b[0m 0.9     \u001b[0m | \u001b[0m 0.1     \u001b[0m | \u001b[0m 0.1     \u001b[0m | \u001b[0m 0.1     \u001b[0m | \u001b[0m 0.1     \u001b[0m | \u001b[0m 0.1     \u001b[0m |\n",
      "| \u001b[0m 5       \u001b[0m | \u001b[0m 0.5398  \u001b[0m | \u001b[0m 0.1     \u001b[0m | \u001b[0m 0.1     \u001b[0m | \u001b[0m 0.9     \u001b[0m | \u001b[0m 0.1     \u001b[0m | \u001b[0m 0.1     \u001b[0m | \u001b[0m 0.1     \u001b[0m |\n",
      "| \u001b[95m 6       \u001b[0m | \u001b[95m 0.5871  \u001b[0m | \u001b[95m 0.1     \u001b[0m | \u001b[95m 0.9     \u001b[0m | \u001b[95m 0.1     \u001b[0m | \u001b[95m 0.1     \u001b[0m | \u001b[95m 0.1     \u001b[0m | \u001b[95m 0.1     \u001b[0m |\n",
      "| \u001b[0m 7       \u001b[0m | \u001b[0m 0.5416  \u001b[0m | \u001b[0m 0.264   \u001b[0m | \u001b[0m 0.7733  \u001b[0m | \u001b[0m 0.1056  \u001b[0m | \u001b[0m 0.1199  \u001b[0m | \u001b[0m 0.4004  \u001b[0m | \u001b[0m 0.4032  \u001b[0m |\n"
     ]
    }
   ],
   "source": [
    "from estimator import NeuralNet\n",
    "\n",
    "def nn():\n",
    "    params = {'bn1':[0.1,0.9], 'do1':[0.1,0.5], 'bn2':[0.1,0.9], 'do2':[0.1,0.5], 'bn3':[0.1,0.9], 'do3':[0.1,0.5]}\n",
    "    return NeuralNet, params\n",
    "\n",
    "feature_selection = 'None'\n",
    "crossval_type = 'kfold'\n",
    "search_type = 'bayes'\n",
    "metrics = 'accuracy'\n",
    "problem_type = 'classification'\n",
    "\n",
    "est, params = nn()\n",
    "hyp = HypParamSearch(x_train,\n",
    "                     y_train,\n",
    "                     x_test,\n",
    "                     y_test,\n",
    "                     est,\n",
    "                     problem_type,\n",
    "                     feature_selection,\n",
    "                     params,\n",
    "                     crossval_type,\n",
    "                     search_type,\n",
    "                     metrics)\n",
    "y_test_list, y_test_predicted_list, val_score, test_score, est = hyp.hyp_param_search()\n",
    "\n",
    "print(est)\n",
    "\n",
    "plt.figure()\n",
    "plt.scatter(y_test_list, y_test_predicted_list)\n",
    "plt.show()\n",
    "\n",
    "print(val_score, test_score)\n",
    "\n",
    "y_test_predicted_list = np.array(y_test_predicted_list, int)\n",
    "cm = confusion_matrix(y_test_list, y_test_predicted_list)\n",
    "\n",
    "sns.heatmap(cm)\n",
    "plt.show()"
   ]
  },
  {
   "cell_type": "code",
   "execution_count": null,
   "metadata": {},
   "outputs": [],
   "source": []
  },
  {
   "cell_type": "code",
   "execution_count": null,
   "metadata": {},
   "outputs": [],
   "source": []
  }
 ],
 "metadata": {
  "kernelspec": {
   "display_name": "auto_learning_kernel",
   "language": "python",
   "name": "auto_learning_kernel"
  },
  "language_info": {
   "codemirror_mode": {
    "name": "ipython",
    "version": 3
   },
   "file_extension": ".py",
   "mimetype": "text/x-python",
   "name": "python",
   "nbconvert_exporter": "python",
   "pygments_lexer": "ipython3",
   "version": "3.7.3-final"
  }
 },
 "nbformat": 4,
 "nbformat_minor": 2
}